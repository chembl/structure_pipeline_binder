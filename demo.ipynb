{
 "cells": [
  {
   "cell_type": "markdown",
   "metadata": {},
   "source": [
    "# ChEMBL Structure Pipeline demo"
   ]
  },
  {
   "cell_type": "markdown",
   "metadata": {},
   "source": [
    "## Use it directly from the library"
   ]
  },
  {
   "cell_type": "markdown",
   "metadata": {},
   "source": [
    "### Standardize a molblock\n",
    "Standardises chemical structures according to a set of predefined ChEMBL business rules "
   ]
  },
  {
   "cell_type": "code",
   "execution_count": 1,
   "metadata": {},
   "outputs": [
    {
     "name": "stdout",
     "output_type": "stream",
     "text": [
      "\n",
      "     RDKit          2D\n",
      "\n",
      "  4  3  0  0  0  0  0  0  0  0999 V2000\n",
      "   -2.5038    0.4060    0.0000 C   0  0  0  0  0  0  0  0  0  0  0  0\n",
      "   -2.5038    1.2310    0.0000 O   0  0  0  0  0  0  0  0  0  0  0  0\n",
      "   -3.2182   -0.0065    0.0000 N   0  0  0  0  0  0  0  0  0  0  0  0\n",
      "   -1.7893   -0.0065    0.0000 C   0  0  0  0  0  0  0  0  0  0  0  0\n",
      "  1  2  1  0\n",
      "  1  3  1  0\n",
      "  1  4  1  0\n",
      "M  END\n",
      "\n"
     ]
    },
    {
     "name": "stderr",
     "output_type": "stream",
     "text": [
      "RDKit WARNING: [13:05:05] Enabling RDKit 2019.09.3 jupyter extensions\n"
     ]
    }
   ],
   "source": [
    "from chembl_structure_pipeline import standardizer\n",
    "\n",
    "s_molblock = \"\"\"\n",
    "  Mrv1810 07121910172D          \n",
    "\n",
    "  4  3  0  0  0  0            999 V2000\n",
    "   -2.5038    0.4060    0.0000 C   0  0  3  0  0  0  0  0  0  0  0  0\n",
    "   -2.5038    1.2310    0.0000 O   0  5  0  0  0  0  0  0  0  0  0  0\n",
    "   -3.2182   -0.0065    0.0000 N   0  3  0  0  0  0  0  0  0  0  0  0\n",
    "   -1.7893   -0.0065    0.0000 C   0  0  0  0  0  0  0  0  0  0  0  0\n",
    "  1  2  1  0  0  0  0\n",
    "  1  3  1  0  0  0  0\n",
    "  1  4  1  4  0  0  0\n",
    "M  CHG  2   2  -1   3   1\n",
    "M  END\n",
    "\"\"\"\n",
    "\n",
    "standard_molblock = standardizer.standardize_molblock(s_molblock)\n",
    "print(standard_molblock)"
   ]
  },
  {
   "cell_type": "markdown",
   "metadata": {},
   "source": [
    "### Get parent molblock\n",
    "Generates parent structures of multi-component compounds based on a set of rules and defined list of salts and solvents"
   ]
  },
  {
   "cell_type": "code",
   "execution_count": 2,
   "metadata": {},
   "outputs": [
    {
     "name": "stdout",
     "output_type": "stream",
     "text": [
      "\n",
      "     RDKit          2D\n",
      "\n",
      "  2  1  0  0  0  0  0  0  0  0999 V2000\n",
      "   -5.2331    1.1053    0.0000 C   0  0  0  0  0  0  0  0  0  0  0  0\n",
      "   -4.5186    1.5178    0.0000 N   0  0  0  0  0  0  0  0  0  0  0  0\n",
      "  1  2  1  0\n",
      "M  END\n",
      "\n"
     ]
    }
   ],
   "source": [
    "from chembl_structure_pipeline import standardizer\n",
    "\n",
    "p_molblock = \"\"\"\n",
    "  Mrv1810 07121910262D          \n",
    "\n",
    "  3  1  0  0  0  0            999 V2000\n",
    "   -5.2331    1.1053    0.0000 C   0  0  0  0  0  0  0  0  0  0  0  0\n",
    "   -4.5186    1.5178    0.0000 N   0  3  0  0  0  0  0  0  0  0  0  0\n",
    "   -2.8647    1.5789    0.0000 Cl  0  5  0  0  0  0  0  0  0  0  0  0\n",
    "  1  2  1  0  0  0  0\n",
    "M  CHG  2   2   1   3  -1\n",
    "M  END\n",
    "\"\"\"\n",
    "\n",
    "parent_molblock, _ = standardizer.get_parent_molblock(p_molblock)\n",
    "print(parent_molblock)"
   ]
  },
  {
   "cell_type": "markdown",
   "metadata": {},
   "source": [
    "### Check the molecule\n",
    "Identifies and validates problem structures before they are added to the database"
   ]
  },
  {
   "cell_type": "code",
   "execution_count": 3,
   "metadata": {},
   "outputs": [
    {
     "name": "stdout",
     "output_type": "stream",
     "text": [
      "((5, 'InChi_RDKit/Mol stereo mismatch'),)\n"
     ]
    }
   ],
   "source": [
    "from chembl_structure_pipeline import checker\n",
    "\n",
    "c_molblock = \"\"\" \n",
    "  Mrv1810 02151908462D           \n",
    " \n",
    "  4  3  0  0  0  0            999 V2000 \n",
    "    2.2321    4.4196    0.0000 C   0  0  0  0  0  0  0  0  0  0  0  0 \n",
    "    3.0023    4.7153    0.0000 C   0  0  0  0  0  0  0  0  0  0  0  0 \n",
    "    1.4117    4.5059    0.0000 O   0  0  0  0  0  0  0  0  0  0  0  0 \n",
    "    1.9568    3.6420    0.0000 C   0  0  0  0  0  0  0  0  0  0  0  0 \n",
    "  1  2  1  1  0  0  0 \n",
    "  1  3  1  0  0  0  0 \n",
    "  1  4  1  0  0  0  0 \n",
    "M  END \n",
    "\"\"\"\n",
    "\n",
    "issues = checker.check_molblock(c_molblock)\n",
    "print(issues)"
   ]
  },
  {
   "cell_type": "markdown",
   "metadata": {},
   "source": [
    "## Use it from [Beaker](https://www.ebi.ac.uk/chembl/api/utils/docs)\n",
    "\n",
    "- Beaker historically allows to send a batch of molecules that can be processed in a single request but this is no longer recomended."
   ]
  },
  {
   "cell_type": "markdown",
   "metadata": {},
   "source": [
    "### Standardize a molblock\n",
    "Standardises chemical structures according to a set of predefined ChEMBL business rules.\n"
   ]
  },
  {
   "cell_type": "code",
   "execution_count": 4,
   "metadata": {},
   "outputs": [
    {
     "name": "stdout",
     "output_type": "stream",
     "text": [
      "\n",
      "     RDKit          2D\n",
      "\n",
      "  4  3  0  0  0  0  0  0  0  0999 V2000\n",
      "   -2.5038    0.4060    0.0000 C   0  0  0  0  0  0  0  0  0  0  0  0\n",
      "   -2.5038    1.2310    0.0000 O   0  0  0  0  0  0  0  0  0  0  0  0\n",
      "   -3.2182   -0.0065    0.0000 N   0  0  0  0  0  0  0  0  0  0  0  0\n",
      "   -1.7893   -0.0065    0.0000 C   0  0  0  0  0  0  0  0  0  0  0  0\n",
      "  1  2  1  0\n",
      "  1  3  1  0\n",
      "  1  4  1  0\n",
      "M  END\n",
      "\n"
     ]
    }
   ],
   "source": [
    "import requests\n",
    "\n",
    "res = requests.post('https://www.ebi.ac.uk/chembl/api/utils/standardize', data=s_molblock)\n",
    "standard_molblock = res.json()[0]['standard_molblock']\n",
    "print(standard_molblock)"
   ]
  },
  {
   "cell_type": "markdown",
   "metadata": {},
   "source": [
    "### Get parent molblock\n",
    "Generates parent structures of multi-component compounds based on a set of rules and defined list of salts and solvents"
   ]
  },
  {
   "cell_type": "code",
   "execution_count": 5,
   "metadata": {},
   "outputs": [
    {
     "name": "stdout",
     "output_type": "stream",
     "text": [
      "\n",
      "     RDKit          2D\n",
      "\n",
      "  2  1  0  0  0  0  0  0  0  0999 V2000\n",
      "   -5.2331    1.1053    0.0000 C   0  0  0  0  0  0  0  0  0  0  0  0\n",
      "   -4.5186    1.5178    0.0000 N   0  0  0  0  0  0  0  0  0  0  0  0\n",
      "  1  2  1  0\n",
      "M  END\n",
      "\n"
     ]
    }
   ],
   "source": [
    "import requests\n",
    "\n",
    "res = requests.post('https://www.ebi.ac.uk/chembl/api/utils/getParent', data=p_molblock)\n",
    "parent_molblock = res.json()[0]['parent_molblock']\n",
    "print(parent_molblock)"
   ]
  },
  {
   "cell_type": "markdown",
   "metadata": {},
   "source": [
    "### Check the molecule\n",
    "Identifies and validates problem structures before they are added to the database"
   ]
  },
  {
   "cell_type": "code",
   "execution_count": 6,
   "metadata": {},
   "outputs": [
    {
     "name": "stdout",
     "output_type": "stream",
     "text": [
      "[[5, 'InChi_RDKit/Mol stereo mismatch']]\n"
     ]
    }
   ],
   "source": [
    "import requests\n",
    "\n",
    "res = requests.post('https://www.ebi.ac.uk/chembl/api/utils/check', data=c_molblock)\n",
    "issues = res.json()[0]\n",
    "print(issues)"
   ]
  },
  {
   "cell_type": "code",
   "execution_count": null,
   "metadata": {},
   "outputs": [],
   "source": []
  }
 ],
 "metadata": {
  "kernelspec": {
   "display_name": "Python 3",
   "language": "python",
   "name": "python3"
  },
  "language_info": {
   "codemirror_mode": {
    "name": "ipython",
    "version": 3
   },
   "file_extension": ".py",
   "mimetype": "text/x-python",
   "name": "python",
   "nbconvert_exporter": "python",
   "pygments_lexer": "ipython3",
   "version": "3.7.6"
  }
 },
 "nbformat": 4,
 "nbformat_minor": 4
}